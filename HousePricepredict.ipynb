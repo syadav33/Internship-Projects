{
 "cells": [
  {
   "cell_type": "markdown",
   "id": "732d1513",
   "metadata": {},
   "source": [
    "# <u><i> House Price\n",
    "## Predict the House Price"
   ]
  },
  {
   "cell_type": "markdown",
   "id": "63185c59",
   "metadata": {},
   "source": [
    "Predicting the house Price of the based on various factors: \n",
    "1) Location<br>\n",
    "2) BHK<br>\n",
    "3) Furnishing<br>\n",
    "4) Sq.ft<br>\n",
    "5) Old(in yrs)<br>\n",
    "6) Floor"
   ]
  },
  {
   "cell_type": "markdown",
   "id": "48a588b6",
   "metadata": {},
   "source": [
    "## LOADING DATASET"
   ]
  },
  {
   "cell_type": "code",
   "execution_count": 6,
   "id": "bbd8aeb4",
   "metadata": {},
   "outputs": [
    {
     "data": {
      "text/html": [
       "<div>\n",
       "<style scoped>\n",
       "    .dataframe tbody tr th:only-of-type {\n",
       "        vertical-align: middle;\n",
       "    }\n",
       "\n",
       "    .dataframe tbody tr th {\n",
       "        vertical-align: top;\n",
       "    }\n",
       "\n",
       "    .dataframe thead th {\n",
       "        text-align: right;\n",
       "    }\n",
       "</style>\n",
       "<table border=\"1\" class=\"dataframe\">\n",
       "  <thead>\n",
       "    <tr style=\"text-align: right;\">\n",
       "      <th></th>\n",
       "      <th>Location</th>\n",
       "      <th>BHK</th>\n",
       "      <th>Furnishing</th>\n",
       "      <th>Sq.ft</th>\n",
       "      <th>Old(years)</th>\n",
       "      <th>Floor</th>\n",
       "      <th>Price</th>\n",
       "    </tr>\n",
       "  </thead>\n",
       "  <tbody>\n",
       "    <tr>\n",
       "      <th>0</th>\n",
       "      <td>Bommanahalli</td>\n",
       "      <td>3.0</td>\n",
       "      <td>1.0</td>\n",
       "      <td>3000.0</td>\n",
       "      <td>1</td>\n",
       "      <td>3</td>\n",
       "      <td>28000</td>\n",
       "    </tr>\n",
       "    <tr>\n",
       "      <th>1</th>\n",
       "      <td>Bommanahalli</td>\n",
       "      <td>3.0</td>\n",
       "      <td>1.0</td>\n",
       "      <td>1650.0</td>\n",
       "      <td>10</td>\n",
       "      <td>0</td>\n",
       "      <td>18000</td>\n",
       "    </tr>\n",
       "    <tr>\n",
       "      <th>2</th>\n",
       "      <td>Whitefield</td>\n",
       "      <td>2.0</td>\n",
       "      <td>0.0</td>\n",
       "      <td>1000.0</td>\n",
       "      <td>5</td>\n",
       "      <td>3</td>\n",
       "      <td>16400</td>\n",
       "    </tr>\n",
       "    <tr>\n",
       "      <th>3</th>\n",
       "      <td>Whitefield</td>\n",
       "      <td>3.0</td>\n",
       "      <td>0.0</td>\n",
       "      <td>1600.0</td>\n",
       "      <td>1</td>\n",
       "      <td>9</td>\n",
       "      <td>27000</td>\n",
       "    </tr>\n",
       "    <tr>\n",
       "      <th>4</th>\n",
       "      <td>Whitefield</td>\n",
       "      <td>2.0</td>\n",
       "      <td>1.0</td>\n",
       "      <td>1200.0</td>\n",
       "      <td>5</td>\n",
       "      <td>1</td>\n",
       "      <td>20000</td>\n",
       "    </tr>\n",
       "  </tbody>\n",
       "</table>\n",
       "</div>"
      ],
      "text/plain": [
       "       Location  BHK  Furnishing   Sq.ft Old(years) Floor  Price\n",
       "0  Bommanahalli  3.0         1.0  3000.0          1     3  28000\n",
       "1  Bommanahalli  3.0         1.0  1650.0         10     0  18000\n",
       "2    Whitefield  2.0         0.0  1000.0          5     3  16400\n",
       "3    Whitefield  3.0         0.0  1600.0          1     9  27000\n",
       "4    Whitefield  2.0         1.0  1200.0          5     1  20000"
      ]
     },
     "execution_count": 6,
     "metadata": {},
     "output_type": "execute_result"
    }
   ],
   "source": [
    "import warnings\n",
    "warnings.filterwarnings('ignore')  #Eliminating the Warnings message while program in execution.\n",
    "import pandas as pd\n",
    "\n",
    "df = pd.read_csv(r'D:\\Internship\\project\\Copy of house_price.csv')\n",
    "df.head()"
   ]
  },
  {
   "cell_type": "code",
   "execution_count": 7,
   "id": "9d1ea823",
   "metadata": {},
   "outputs": [
    {
     "data": {
      "text/plain": [
       "(1001, 7)"
      ]
     },
     "execution_count": 7,
     "metadata": {},
     "output_type": "execute_result"
    }
   ],
   "source": [
    "df.shape # No. of rows and columns in dataset."
   ]
  },
  {
   "cell_type": "markdown",
   "id": "e71b0df2",
   "metadata": {},
   "source": [
    "## UPDATING VALUES AND REMOVING OUTLIERS\n",
    "\n",
    "### 1) REMOVING NULL VALUES"
   ]
  },
  {
   "cell_type": "code",
   "execution_count": 8,
   "id": "3e40a946",
   "metadata": {},
   "outputs": [
    {
     "data": {
      "text/plain": [
       "Location      1\n",
       "BHK           1\n",
       "Furnishing    1\n",
       "Sq.ft         1\n",
       "Old(years)    1\n",
       "Floor         1\n",
       "Price         1\n",
       "dtype: int64"
      ]
     },
     "execution_count": 8,
     "metadata": {},
     "output_type": "execute_result"
    }
   ],
   "source": [
    "df.isna().sum()"
   ]
  },
  {
   "cell_type": "code",
   "execution_count": 9,
   "id": "71845a12",
   "metadata": {},
   "outputs": [
    {
     "data": {
      "text/plain": [
       "Location      0\n",
       "BHK           0\n",
       "Furnishing    0\n",
       "Sq.ft         0\n",
       "Old(years)    0\n",
       "Floor         0\n",
       "Price         0\n",
       "dtype: int64"
      ]
     },
     "execution_count": 9,
     "metadata": {},
     "output_type": "execute_result"
    }
   ],
   "source": [
    "df.dropna(inplace=True)\n",
    "df.isna().sum()"
   ]
  },
  {
   "cell_type": "markdown",
   "id": "be65b05f",
   "metadata": {},
   "source": [
    "### 2) TRANSFORMING VARIABLES FROM OBJECT TYPE TO NUMERIC TYPE"
   ]
  },
  {
   "cell_type": "code",
   "execution_count": 10,
   "id": "800c310d",
   "metadata": {},
   "outputs": [
    {
     "data": {
      "text/plain": [
       "Location       object\n",
       "BHK           float64\n",
       "Furnishing    float64\n",
       "Sq.ft         float64\n",
       "Old(years)     object\n",
       "Floor          object\n",
       "Price          object\n",
       "dtype: object"
      ]
     },
     "execution_count": 10,
     "metadata": {},
     "output_type": "execute_result"
    }
   ],
   "source": [
    "df.dtypes"
   ]
  },
  {
   "cell_type": "code",
   "execution_count": 11,
   "id": "2fc03161",
   "metadata": {},
   "outputs": [],
   "source": [
    "from sklearn.preprocessing import LabelEncoder\n",
    "\n",
    "ls = LabelEncoder()\n",
    "df['Location'] = ls.fit_transform(df['Location'])\n",
    "df['Old(years)'] = df['Old(years)'].astype(float)\n",
    "df['Floor'] = df['Floor'].astype(float)\n",
    "df['Price'] = df['Price'].astype(float)"
   ]
  },
  {
   "cell_type": "code",
   "execution_count": 12,
   "id": "eb43b133",
   "metadata": {},
   "outputs": [
    {
     "data": {
      "text/plain": [
       "Location        int32\n",
       "BHK           float64\n",
       "Furnishing    float64\n",
       "Sq.ft         float64\n",
       "Old(years)    float64\n",
       "Floor         float64\n",
       "Price         float64\n",
       "dtype: object"
      ]
     },
     "execution_count": 12,
     "metadata": {},
     "output_type": "execute_result"
    }
   ],
   "source": [
    "df.dtypes"
   ]
  },
  {
   "cell_type": "code",
   "execution_count": 13,
   "id": "f158adf7",
   "metadata": {},
   "outputs": [
    {
     "data": {
      "text/html": [
       "<div>\n",
       "<style scoped>\n",
       "    .dataframe tbody tr th:only-of-type {\n",
       "        vertical-align: middle;\n",
       "    }\n",
       "\n",
       "    .dataframe tbody tr th {\n",
       "        vertical-align: top;\n",
       "    }\n",
       "\n",
       "    .dataframe thead th {\n",
       "        text-align: right;\n",
       "    }\n",
       "</style>\n",
       "<table border=\"1\" class=\"dataframe\">\n",
       "  <thead>\n",
       "    <tr style=\"text-align: right;\">\n",
       "      <th></th>\n",
       "      <th>Location</th>\n",
       "      <th>BHK</th>\n",
       "      <th>Furnishing</th>\n",
       "      <th>Sq.ft</th>\n",
       "      <th>Old(years)</th>\n",
       "      <th>Floor</th>\n",
       "      <th>Price</th>\n",
       "    </tr>\n",
       "  </thead>\n",
       "  <tbody>\n",
       "    <tr>\n",
       "      <th>0</th>\n",
       "      <td>0</td>\n",
       "      <td>3.0</td>\n",
       "      <td>1.0</td>\n",
       "      <td>3000.0</td>\n",
       "      <td>1.0</td>\n",
       "      <td>3.0</td>\n",
       "      <td>28000.0</td>\n",
       "    </tr>\n",
       "    <tr>\n",
       "      <th>1</th>\n",
       "      <td>0</td>\n",
       "      <td>3.0</td>\n",
       "      <td>1.0</td>\n",
       "      <td>1650.0</td>\n",
       "      <td>10.0</td>\n",
       "      <td>0.0</td>\n",
       "      <td>18000.0</td>\n",
       "    </tr>\n",
       "    <tr>\n",
       "      <th>2</th>\n",
       "      <td>1</td>\n",
       "      <td>2.0</td>\n",
       "      <td>0.0</td>\n",
       "      <td>1000.0</td>\n",
       "      <td>5.0</td>\n",
       "      <td>3.0</td>\n",
       "      <td>16400.0</td>\n",
       "    </tr>\n",
       "    <tr>\n",
       "      <th>3</th>\n",
       "      <td>1</td>\n",
       "      <td>3.0</td>\n",
       "      <td>0.0</td>\n",
       "      <td>1600.0</td>\n",
       "      <td>1.0</td>\n",
       "      <td>9.0</td>\n",
       "      <td>27000.0</td>\n",
       "    </tr>\n",
       "    <tr>\n",
       "      <th>4</th>\n",
       "      <td>1</td>\n",
       "      <td>2.0</td>\n",
       "      <td>1.0</td>\n",
       "      <td>1200.0</td>\n",
       "      <td>5.0</td>\n",
       "      <td>1.0</td>\n",
       "      <td>20000.0</td>\n",
       "    </tr>\n",
       "  </tbody>\n",
       "</table>\n",
       "</div>"
      ],
      "text/plain": [
       "   Location  BHK  Furnishing   Sq.ft  Old(years)  Floor    Price\n",
       "0         0  3.0         1.0  3000.0         1.0    3.0  28000.0\n",
       "1         0  3.0         1.0  1650.0        10.0    0.0  18000.0\n",
       "2         1  2.0         0.0  1000.0         5.0    3.0  16400.0\n",
       "3         1  3.0         0.0  1600.0         1.0    9.0  27000.0\n",
       "4         1  2.0         1.0  1200.0         5.0    1.0  20000.0"
      ]
     },
     "execution_count": 13,
     "metadata": {},
     "output_type": "execute_result"
    }
   ],
   "source": [
    "df.head()"
   ]
  },
  {
   "cell_type": "markdown",
   "id": "2d559680",
   "metadata": {},
   "source": [
    "## 3) Checking for outliers for the input features using Boxplot and Pairplot."
   ]
  },
  {
   "cell_type": "code",
   "execution_count": 14,
   "id": "2196f5c9",
   "metadata": {},
   "outputs": [
    {
     "data": {
      "image/png": "[encoded data removed]",
      "text/plain": [
       "<Figure size 432x288 with 7 Axes>"
      ]
     },
     "metadata": {
      "needs_background": "light"
     },
     "output_type": "display_data"
    }
   ],
   "source": [
    "import matplotlib.pyplot as plt\n",
    "import seaborn as sns\n",
    "\n",
    "i = 1\n",
    "for x in df.columns:\n",
    "    plt.subplot(2,4,i)\n",
    "    sns.boxplot(df[x])\n",
    "    i+=1\n",
    "    \n",
    "plt.show()"
   ]
  },
  {
   "cell_type": "code",
   "execution_count": 15,
   "id": "5a718dde",
   "metadata": {},
   "outputs": [
    {
     "data": {
      "text/plain": [
       "<seaborn.axisgrid.PairGrid at 0x27336ad1040>"
      ]
     },
     "execution_count": 15,
     "metadata": {},
     "output_type": "execute_result"
    },
    {
     "data": {
      "image/png": "[encoded data removed]",
      "text/plain": [
       "<Figure size 1260x180 with 8 Axes>"
      ]
     },
     "metadata": {
      "needs_background": "light"
     },
     "output_type": "display_data"
    }
   ],
   "source": [
    "sns.pairplot(df,y_vars=['Price'])"
   ]
  },
  {
   "cell_type": "markdown",
   "id": "c65939e7",
   "metadata": {},
   "source": [
    "## SPLITTING DATASET INTO TRAINING DATA AND TESTING DATA"
   ]
  },
  {
   "cell_type": "code",
   "execution_count": 16,
   "id": "d9f52323",
   "metadata": {},
   "outputs": [],
   "source": [
    "from sklearn.model_selection import train_test_split\n",
    "\n",
    "x = df.drop(\"Price\", axis=1)\n",
    "y = df[\"Price\"]\n",
    "x_train, x_test, y_train, y_test = train_test_split(x,y,test_size=0.25)"
   ]
  },
  {
   "cell_type": "markdown",
   "id": "6a51a58d",
   "metadata": {},
   "source": [
    "## EVALUATION OF MODEL\n",
    "### 1) CALCULATING MODEL SCORE"
   ]
  },
  {
   "cell_type": "code",
   "execution_count": 17,
   "id": "55a77b06",
   "metadata": {},
   "outputs": [],
   "source": [
    "def mscore(m):\n",
    "    print(\"Training Score: \", m.score(x_train,y_train))\n",
    "    print(\"Testing Score: \", m.score(x_test,y_test))"
   ]
  },
  {
   "cell_type": "markdown",
   "id": "bdf738ef",
   "metadata": {},
   "source": [
    "### 2) PREDICTING PRICE BY TEST MODEL"
   ]
  },
  {
   "cell_type": "code",
   "execution_count": 18,
   "id": "ba6b3556",
   "metadata": {},
   "outputs": [],
   "source": [
    "def predict_val(m,x_test):\n",
    "    return m.predict(x_test)"
   ]
  },
  {
   "cell_type": "markdown",
   "id": "a51a3bf1",
   "metadata": {},
   "source": [
    "### 3) CALCULATING ACCURACY OF THE MODEL"
   ]
  },
  {
   "cell_type": "code",
   "execution_count": 19,
   "id": "3a7905ab",
   "metadata": {},
   "outputs": [],
   "source": [
    "from sklearn.metrics import accuracy_score\n",
    "\n",
    "def cal_acc(y_test,y_pred):\n",
    "    print(\"\\nAccuracy of the Model: \",accuracy_score(y_test,y_pred))"
   ]
  },
  {
   "cell_type": "markdown",
   "id": "45825ea5",
   "metadata": {},
   "source": [
    "## CREATING MODELS"
   ]
  },
  {
   "cell_type": "markdown",
   "id": "9ec63bd3",
   "metadata": {},
   "source": [
    "## 1) Decision Tree Classifier"
   ]
  },
  {
   "cell_type": "code",
   "execution_count": 23,
   "id": "e7efa81f",
   "metadata": {},
   "outputs": [
    {
     "name": "stdout",
     "output_type": "stream",
     "text": [
      "Training Score:  0.9372496662216289\n",
      "Testing Score:  0.892\n",
      "\n",
      "Accuracy of the Model:  0.892\n"
     ]
    }
   ],
   "source": [
    "from sklearn.tree import DecisionTreeClassifier\n",
    "\n",
    "m1 = DecisionTreeClassifier(criterion='entropy',min_samples_split=15, max_depth=9, min_samples_leaf=11)\n",
    "m1.fit(x_train,y_train)\n",
    "mscore(m1)  # 1. Calculating model score\n",
    "y_pred = predict_val(m1,x_test)\n",
    "cal_acc(y_test,y_pred)"
   ]
  },
  {
   "cell_type": "markdown",
   "id": "07c47c4d",
   "metadata": {},
   "source": [
    "## 2) Logistic Regression"
   ]
  },
  {
   "cell_type": "code",
   "execution_count": 21,
   "id": "0ac08e9d",
   "metadata": {},
   "outputs": [
    {
     "name": "stdout",
     "output_type": "stream",
     "text": [
      "Training Score:  0.8184245660881175\n",
      "Testing Score:  0.812\n",
      "\n",
      "Accuracy of the Model:  0.892\n"
     ]
    }
   ],
   "source": [
    "from sklearn.linear_model import LogisticRegression\n",
    "\n",
    "m2 = LogisticRegression(max_iter=100000)\n",
    "m2.fit(x_train,y_train)\n",
    "mscore(m2)\n",
    "y_predict = predict_val(m2,x_test)\n",
    "cal_acc(y_test,y_pred)"
   ]
  },
  {
   "cell_type": "code",
   "execution_count": 16,
   "id": "9fa7b97b",
   "metadata": {},
   "outputs": [
    {
     "data": {
      "text/html": [
       "<div>\n",
       "<style scoped>\n",
       "    .dataframe tbody tr th:only-of-type {\n",
       "        vertical-align: middle;\n",
       "    }\n",
       "\n",
       "    .dataframe tbody tr th {\n",
       "        vertical-align: top;\n",
       "    }\n",
       "\n",
       "    .dataframe thead th {\n",
       "        text-align: right;\n",
       "    }\n",
       "</style>\n",
       "<table border=\"1\" class=\"dataframe\">\n",
       "  <thead>\n",
       "    <tr style=\"text-align: right;\">\n",
       "      <th></th>\n",
       "      <th>Location</th>\n",
       "      <th>BHK</th>\n",
       "      <th>Furnishing</th>\n",
       "      <th>Sq.ft</th>\n",
       "      <th>Old(years)</th>\n",
       "      <th>Floor</th>\n",
       "      <th>Price</th>\n",
       "    </tr>\n",
       "  </thead>\n",
       "  <tbody>\n",
       "    <tr>\n",
       "      <th>0</th>\n",
       "      <td>0</td>\n",
       "      <td>3.0</td>\n",
       "      <td>1.0</td>\n",
       "      <td>3000.0</td>\n",
       "      <td>1.0</td>\n",
       "      <td>3.0</td>\n",
       "      <td>28000.0</td>\n",
       "    </tr>\n",
       "    <tr>\n",
       "      <th>1</th>\n",
       "      <td>0</td>\n",
       "      <td>3.0</td>\n",
       "      <td>1.0</td>\n",
       "      <td>1650.0</td>\n",
       "      <td>10.0</td>\n",
       "      <td>0.0</td>\n",
       "      <td>18000.0</td>\n",
       "    </tr>\n",
       "    <tr>\n",
       "      <th>2</th>\n",
       "      <td>1</td>\n",
       "      <td>2.0</td>\n",
       "      <td>0.0</td>\n",
       "      <td>1000.0</td>\n",
       "      <td>5.0</td>\n",
       "      <td>3.0</td>\n",
       "      <td>16400.0</td>\n",
       "    </tr>\n",
       "    <tr>\n",
       "      <th>3</th>\n",
       "      <td>1</td>\n",
       "      <td>3.0</td>\n",
       "      <td>0.0</td>\n",
       "      <td>1600.0</td>\n",
       "      <td>1.0</td>\n",
       "      <td>9.0</td>\n",
       "      <td>27000.0</td>\n",
       "    </tr>\n",
       "    <tr>\n",
       "      <th>4</th>\n",
       "      <td>1</td>\n",
       "      <td>2.0</td>\n",
       "      <td>1.0</td>\n",
       "      <td>1200.0</td>\n",
       "      <td>5.0</td>\n",
       "      <td>1.0</td>\n",
       "      <td>20000.0</td>\n",
       "    </tr>\n",
       "  </tbody>\n",
       "</table>\n",
       "</div>"
      ],
      "text/plain": [
       "   Location  BHK  Furnishing   Sq.ft  Old(years)  Floor    Price\n",
       "0         0  3.0         1.0  3000.0         1.0    3.0  28000.0\n",
       "1         0  3.0         1.0  1650.0        10.0    0.0  18000.0\n",
       "2         1  2.0         0.0  1000.0         5.0    3.0  16400.0\n",
       "3         1  3.0         0.0  1600.0         1.0    9.0  27000.0\n",
       "4         1  2.0         1.0  1200.0         5.0    1.0  20000.0"
      ]
     },
     "execution_count": 16,
     "metadata": {},
     "output_type": "execute_result"
    }
   ],
   "source": [
    "df.head()"
   ]
  },
  {
   "cell_type": "markdown",
   "id": "433913f1",
   "metadata": {},
   "source": [
    "# Predicting the values based on user input."
   ]
  },
  {
   "cell_type": "code",
   "execution_count": null,
   "id": "0d5a50c9",
   "metadata": {},
   "outputs": [],
   "source": [
    "loc = int(input('\\n\\tHouse Price Prediction\\n  Location: (0) Bommanahalli   (1) Whitefield\\nEnter Choice: '))\n",
    "bhk = float(input('\\nEnter bhk: '))\n",
    "fur = float(input('Furnishing: (0) No   (1) Yes\\nEnter Choice: '))\n",
    "sqft = float(input('Sq.ft: '))\n",
    "old = float(input('Old(years): '))\n",
    "floor = float(input('Floor: '))\n",
    "\n",
    "data = {'Location':[loc],'BHK':[bhk],'Furnishing':[fur],'Sq.ft':[sqft],'Old(years)':[old],'Floor':[floor]}\n",
    "l=pd.DataFrame(data)\n",
    "print('\\nOutput Based on Decision Tree Model Price= :',end='')\n",
    "k = predict_val(m1,l)\n",
    "print(k)\n",
    "print('\\nOutput Based on Logistic Regression Model Price= :',end='')\n",
    "k = predict_val(m2,l)\n",
    "print(k)"
   ]
  },
  {
   "cell_type": "markdown",
   "id": "057c3ed2",
   "metadata": {},
   "source": [
    "## Conclusion\n",
    "\n",
    "Based on model we train we get our outputs. We might see some variation in output produced in the two models we have trained.<br> This arises due to difference we observe in the model score."
   ]
  }
 ],
 "metadata": {
  "kernelspec": {
   "display_name": "Python 3 (ipykernel)",
   "language": "python",
   "name": "python3"
  },
  "language_info": {
   "codemirror_mode": {
    "name": "ipython",
    "version": 3
   },
   "file_extension": ".py",
   "mimetype": "text/x-python",
   "name": "python",
   "nbconvert_exporter": "python",
   "pygments_lexer": "ipython3",
   "version": "3.9.12"
  }
 },
 "nbformat": 4,
 "nbformat_minor": 5
}
